{
 "cells": [
  {
   "cell_type": "code",
   "execution_count": 1,
   "metadata": {},
   "outputs": [],
   "source": [
    "import numpy as np\n",
    "import pandas as pd\n",
    "import seaborn as sns\n",
    "import matplotlib.pyplot as plt\n",
    "from sklearn.linear_model import LinearRegression\n",
    "\n",
    "%matplotlib inline"
   ]
  },
  {
   "cell_type": "code",
   "execution_count": 3,
   "metadata": {},
   "outputs": [
    {
     "name": "stderr",
     "output_type": "stream",
     "text": [
      "Using TensorFlow backend.\n"
     ]
    }
   ],
   "source": [
    "from util import rmse"
   ]
  },
  {
   "cell_type": "code",
   "execution_count": 4,
   "metadata": {},
   "outputs": [
    {
     "name": "stdout",
     "output_type": "stream",
     "text": [
      "CNN_pred.csv  FM_pred.csv  LR_pred.csv  MLP_pred.csv  RNN_pred.csv\n"
     ]
    }
   ],
   "source": [
    "%ls '../output'"
   ]
  },
  {
   "cell_type": "code",
   "execution_count": 5,
   "metadata": {},
   "outputs": [],
   "source": [
    "train = pd.read_table('../input/train.tsv')\n",
    "train['log1p_price'] = np.log1p(train['price'])\n",
    "log1p_price = train.set_index('train_id')['log1p_price']"
   ]
  },
  {
   "cell_type": "code",
   "execution_count": 6,
   "metadata": {},
   "outputs": [],
   "source": [
    "pred_files = ['MLP_pred.csv', 'CNN_pred.csv', 'RNN_pred.csv', 'FM_pred.csv',  'LR_pred.csv']"
   ]
  },
  {
   "cell_type": "code",
   "execution_count": 7,
   "metadata": {},
   "outputs": [],
   "source": [
    "mlp_df = pd.read_csv('../output/MLP_pred.csv', index_col='train_id')\n",
    "cnn_df = pd.read_csv('../output/CNN_pred.csv', index_col='train_id')\n",
    "rnn_df = pd.read_csv('../output/RNN_pred.csv', index_col='train_id')\n",
    "lr_df = pd.read_csv('../output/LR_pred.csv', index_col='train_id')\n",
    "fm_df = pd.read_csv('../output/FM_pred.csv', index_col='train_id')"
   ]
  },
  {
   "cell_type": "markdown",
   "metadata": {},
   "source": [
    "## score"
   ]
  },
  {
   "cell_type": "code",
   "execution_count": 8,
   "metadata": {},
   "outputs": [],
   "source": [
    "def rmse_func(pred):\n",
    "    return rmse(pred, log1p_price.loc[pred.index])"
   ]
  },
  {
   "cell_type": "code",
   "execution_count": 9,
   "metadata": {},
   "outputs": [
    {
     "name": "stdout",
     "output_type": "stream",
     "text": [
      "MLP: 0.41497 0.41521 0.41587 0.41606 0.41683 0.41700 0.41767 0.41946\n",
      "CNN: 0.41314 0.41409 0.41467 0.41469 0.41500 0.41530 0.41535 0.41877\n",
      "RNN: 0.41182 0.41231 0.41389 0.41497 0.41544 0.41681 0.41782 0.41885\n",
      "LR : 0.43637 0.43637 0.43637 0.43637 0.43637 0.43637 0.43637 0.43637\n",
      "FM : 0.42138 0.42140 0.42179 0.42200 0.42200 0.42204 0.42222 0.42251\n"
     ]
    }
   ],
   "source": [
    "print('MLP: ' + ' '.join('{:.5f}'.format(score) for score in sorted(mlp_df.agg(rmse_func))))\n",
    "print('CNN: ' + ' '.join('{:.5f}'.format(score) for score in sorted(cnn_df.agg(rmse_func))))\n",
    "print('RNN: ' + ' '.join('{:.5f}'.format(score) for score in sorted(rnn_df.agg(rmse_func))))\n",
    "print('LR : ' + ' '.join('{:.5f}'.format(score) for score in sorted(lr_df.agg(rmse_func))))\n",
    "print('FM : ' + ' '.join('{:.5f}'.format(score) for score in sorted(fm_df.agg(rmse_func))))"
   ]
  },
  {
   "cell_type": "code",
   "execution_count": 10,
   "metadata": {},
   "outputs": [],
   "source": [
    "score_df = pd.concat(\n",
    "    [\n",
    "        pd.DataFrame({'model': 'MLP', 'score': mlp_df.agg(rmse_func).values}),\n",
    "        pd.DataFrame({'model': 'CNN', 'score': cnn_df.agg(rmse_func).values}),\n",
    "        pd.DataFrame({'model': 'RNN', 'score': rnn_df.agg(rmse_func).values}),\n",
    "        pd.DataFrame({'model': 'LR', 'score': lr_df.agg(rmse_func).values}),\n",
    "        pd.DataFrame({'model': 'FM', 'score': fm_df.agg(rmse_func).values}),\n",
    "    ],\n",
    "    ignore_index=True\n",
    ")"
   ]
  },
  {
   "cell_type": "code",
   "execution_count": 11,
   "metadata": {},
   "outputs": [
    {
     "data": {
      "text/plain": [
       "<matplotlib.axes._subplots.AxesSubplot at 0x7fc8f3ebf780>"
      ]
     },
     "execution_count": 11,
     "metadata": {},
     "output_type": "execute_result"
    },
    {
     "data": {
      "image/png": "[encoded data removed]",
      "text/plain": [
       "<matplotlib.figure.Figure at 0x7fc8d3e7a160>"
      ]
     },
     "metadata": {},
     "output_type": "display_data"
    }
   ],
   "source": [
    "plt.figure(figsize=(10, 6))\n",
    "sns.boxplot(x='model', y='score', data=score_df, whis=1e9)"
   ]
  },
  {
   "cell_type": "markdown",
   "metadata": {},
   "source": [
    "## average score"
   ]
  },
  {
   "cell_type": "code",
   "execution_count": 12,
   "metadata": {},
   "outputs": [
    {
     "name": "stdout",
     "output_type": "stream",
     "text": [
      "MLP: 0.41663\n",
      "CNN: 0.41513\n",
      "RNN: 0.41524\n",
      "LR : 0.43637\n",
      "FM : 0.42192\n"
     ]
    }
   ],
   "source": [
    "print('MLP: {:.5f}'.format(mlp_df.agg(rmse_func).mean()))\n",
    "print('CNN: {:.5f}'.format(cnn_df.agg(rmse_func).mean()))\n",
    "print('RNN: {:.5f}'.format(rnn_df.agg(rmse_func).mean()))\n",
    "print('LR : {:.5f}'.format(lr_df.agg(rmse_func).mean()))\n",
    "print('FM : {:.5f}'.format(fm_df.agg(rmse_func).mean()))"
   ]
  },
  {
   "cell_type": "markdown",
   "metadata": {},
   "source": [
    "## Ensemble / averaging of single type models"
   ]
  },
  {
   "cell_type": "code",
   "execution_count": 13,
   "metadata": {},
   "outputs": [],
   "source": [
    "average_mlp = mlp_df.mean(axis=1)\n",
    "average_cnn = cnn_df.mean(axis=1)\n",
    "average_rnn = rnn_df.mean(axis=1)\n",
    "average_lr = lr_df.mean(axis=1)\n",
    "average_fm = fm_df.mean(axis=1)"
   ]
  },
  {
   "cell_type": "code",
   "execution_count": 14,
   "metadata": {},
   "outputs": [
    {
     "name": "stdout",
     "output_type": "stream",
     "text": [
      "MLP: 0.38990\n",
      "CNN: 0.39384\n",
      "RNN: 0.39909\n",
      "LR : 0.43637\n",
      "FM : 0.42012\n"
     ]
    }
   ],
   "source": [
    "print('MLP: {:.5f}'.format(average_mlp.agg(rmse_func).mean()))\n",
    "print('CNN: {:.5f}'.format(average_cnn.agg(rmse_func).mean()))\n",
    "print('RNN: {:.5f}'.format(average_rnn.agg(rmse_func).mean()))\n",
    "print('LR : {:.5f}'.format(average_lr.agg(rmse_func).mean()))\n",
    "print('FM : {:.5f}'.format(average_fm.agg(rmse_func).mean()))"
   ]
  },
  {
   "cell_type": "markdown",
   "metadata": {},
   "source": [
    "## Ensemble / weighted averaging of multiple type models"
   ]
  },
  {
   "cell_type": "markdown",
   "metadata": {},
   "source": [
    "There is a risk of overfitting here because test dataset is used for weight fitting.\n",
    "\n",
    "You should use independent test dataset for validation."
   ]
  },
  {
   "cell_type": "code",
   "execution_count": 15,
   "metadata": {},
   "outputs": [],
   "source": [
    "def optimize_weighted_averaging_loss(preds):\n",
    "    ensemble_lr = LinearRegression(fit_intercept=False)\n",
    "    ensemble_X = pd.concat(preds, axis=1)\n",
    "    ensemble_lr.fit(ensemble_X, log1p_price.loc[ensemble_X.index])\n",
    "#     print('weights:', ensemble_lr.coef_)\n",
    "    return rmse(ensemble_lr.predict(ensemble_X), log1p_price.loc[ensemble_X.index])"
   ]
  },
  {
   "cell_type": "code",
   "execution_count": 16,
   "metadata": {},
   "outputs": [],
   "source": [
    "from itertools import combinations"
   ]
  },
  {
   "cell_type": "code",
   "execution_count": 17,
   "metadata": {},
   "outputs": [],
   "source": [
    "averaging_preds_by_model = {\n",
    "    'MLP': average_mlp,\n",
    "    'CNN': average_cnn,\n",
    "    'RNN': average_rnn,\n",
    "    'LR': average_lr,\n",
    "    'FM': average_fm\n",
    "}"
   ]
  },
  {
   "cell_type": "code",
   "execution_count": 18,
   "metadata": {},
   "outputs": [],
   "source": [
    "modelss = []\n",
    "weighted_averaging_scores = []\n",
    "for num_models in range(1, 5 + 1):\n",
    "    for models in combinations(averaging_preds_by_model.keys(), num_models):\n",
    "        modelss.append(', '.join(models))\n",
    "\n",
    "        preds = [averaging_preds_by_model[model] for model in models]\n",
    "        weighted_averaging_scores.append(optimize_weighted_averaging_loss(preds))\n",
    "\n",
    "weighted_averaging_score_df = pd.DataFrame({'models': modelss, 'score': weighted_averaging_scores})"
   ]
  },
  {
   "cell_type": "code",
   "execution_count": 19,
   "metadata": {},
   "outputs": [
    {
     "data": {
      "text/html": [
       "<div>\n",
       "<style scoped>\n",
       "    .dataframe tbody tr th:only-of-type {\n",
       "        vertical-align: middle;\n",
       "    }\n",
       "\n",
       "    .dataframe tbody tr th {\n",
       "        vertical-align: top;\n",
       "    }\n",
       "\n",
       "    .dataframe thead th {\n",
       "        text-align: right;\n",
       "    }\n",
       "</style>\n",
       "<table border=\"1\" class=\"dataframe\">\n",
       "  <thead>\n",
       "    <tr style=\"text-align: right;\">\n",
       "      <th></th>\n",
       "      <th>models</th>\n",
       "      <th>score</th>\n",
       "    </tr>\n",
       "  </thead>\n",
       "  <tbody>\n",
       "    <tr>\n",
       "      <th>30</th>\n",
       "      <td>MLP, CNN, RNN, LR, FM</td>\n",
       "      <td>0.377730</td>\n",
       "    </tr>\n",
       "    <tr>\n",
       "      <th>25</th>\n",
       "      <td>MLP, CNN, RNN, LR</td>\n",
       "      <td>0.378288</td>\n",
       "    </tr>\n",
       "    <tr>\n",
       "      <th>27</th>\n",
       "      <td>MLP, CNN, LR, FM</td>\n",
       "      <td>0.378713</td>\n",
       "    </tr>\n",
       "    <tr>\n",
       "      <th>26</th>\n",
       "      <td>MLP, CNN, RNN, FM</td>\n",
       "      <td>0.378872</td>\n",
       "    </tr>\n",
       "    <tr>\n",
       "      <th>15</th>\n",
       "      <td>MLP, CNN, RNN</td>\n",
       "      <td>0.378909</td>\n",
       "    </tr>\n",
       "    <tr>\n",
       "      <th>28</th>\n",
       "      <td>MLP, RNN, LR, FM</td>\n",
       "      <td>0.379212</td>\n",
       "    </tr>\n",
       "    <tr>\n",
       "      <th>16</th>\n",
       "      <td>MLP, CNN, LR</td>\n",
       "      <td>0.379302</td>\n",
       "    </tr>\n",
       "    <tr>\n",
       "      <th>17</th>\n",
       "      <td>MLP, CNN, FM</td>\n",
       "      <td>0.379769</td>\n",
       "    </tr>\n",
       "    <tr>\n",
       "      <th>5</th>\n",
       "      <td>MLP, CNN</td>\n",
       "      <td>0.379827</td>\n",
       "    </tr>\n",
       "    <tr>\n",
       "      <th>18</th>\n",
       "      <td>MLP, RNN, LR</td>\n",
       "      <td>0.379839</td>\n",
       "    </tr>\n",
       "    <tr>\n",
       "      <th>19</th>\n",
       "      <td>MLP, RNN, FM</td>\n",
       "      <td>0.380022</td>\n",
       "    </tr>\n",
       "    <tr>\n",
       "      <th>6</th>\n",
       "      <td>MLP, RNN</td>\n",
       "      <td>0.380142</td>\n",
       "    </tr>\n",
       "    <tr>\n",
       "      <th>29</th>\n",
       "      <td>CNN, RNN, LR, FM</td>\n",
       "      <td>0.385930</td>\n",
       "    </tr>\n",
       "    <tr>\n",
       "      <th>22</th>\n",
       "      <td>CNN, RNN, FM</td>\n",
       "      <td>0.386395</td>\n",
       "    </tr>\n",
       "    <tr>\n",
       "      <th>23</th>\n",
       "      <td>CNN, LR, FM</td>\n",
       "      <td>0.387643</td>\n",
       "    </tr>\n",
       "    <tr>\n",
       "      <th>11</th>\n",
       "      <td>CNN, FM</td>\n",
       "      <td>0.388011</td>\n",
       "    </tr>\n",
       "    <tr>\n",
       "      <th>20</th>\n",
       "      <td>MLP, LR, FM</td>\n",
       "      <td>0.388503</td>\n",
       "    </tr>\n",
       "    <tr>\n",
       "      <th>8</th>\n",
       "      <td>MLP, FM</td>\n",
       "      <td>0.388525</td>\n",
       "    </tr>\n",
       "    <tr>\n",
       "      <th>7</th>\n",
       "      <td>MLP, LR</td>\n",
       "      <td>0.389557</td>\n",
       "    </tr>\n",
       "    <tr>\n",
       "      <th>24</th>\n",
       "      <td>RNN, LR, FM</td>\n",
       "      <td>0.389729</td>\n",
       "    </tr>\n",
       "    <tr>\n",
       "      <th>13</th>\n",
       "      <td>RNN, FM</td>\n",
       "      <td>0.389835</td>\n",
       "    </tr>\n",
       "    <tr>\n",
       "      <th>0</th>\n",
       "      <td>MLP</td>\n",
       "      <td>0.389903</td>\n",
       "    </tr>\n",
       "    <tr>\n",
       "      <th>21</th>\n",
       "      <td>CNN, RNN, LR</td>\n",
       "      <td>0.390154</td>\n",
       "    </tr>\n",
       "    <tr>\n",
       "      <th>9</th>\n",
       "      <td>CNN, RNN</td>\n",
       "      <td>0.390995</td>\n",
       "    </tr>\n",
       "    <tr>\n",
       "      <th>10</th>\n",
       "      <td>CNN, LR</td>\n",
       "      <td>0.392270</td>\n",
       "    </tr>\n",
       "    <tr>\n",
       "      <th>1</th>\n",
       "      <td>CNN</td>\n",
       "      <td>0.393551</td>\n",
       "    </tr>\n",
       "    <tr>\n",
       "      <th>12</th>\n",
       "      <td>RNN, LR</td>\n",
       "      <td>0.395329</td>\n",
       "    </tr>\n",
       "    <tr>\n",
       "      <th>2</th>\n",
       "      <td>RNN</td>\n",
       "      <td>0.399082</td>\n",
       "    </tr>\n",
       "    <tr>\n",
       "      <th>14</th>\n",
       "      <td>LR, FM</td>\n",
       "      <td>0.416776</td>\n",
       "    </tr>\n",
       "    <tr>\n",
       "      <th>4</th>\n",
       "      <td>FM</td>\n",
       "      <td>0.420068</td>\n",
       "    </tr>\n",
       "    <tr>\n",
       "      <th>3</th>\n",
       "      <td>LR</td>\n",
       "      <td>0.436359</td>\n",
       "    </tr>\n",
       "  </tbody>\n",
       "</table>\n",
       "</div>"
      ],
      "text/plain": [
       "                   models     score\n",
       "30  MLP, CNN, RNN, LR, FM  0.377730\n",
       "25      MLP, CNN, RNN, LR  0.378288\n",
       "27       MLP, CNN, LR, FM  0.378713\n",
       "26      MLP, CNN, RNN, FM  0.378872\n",
       "15          MLP, CNN, RNN  0.378909\n",
       "28       MLP, RNN, LR, FM  0.379212\n",
       "16           MLP, CNN, LR  0.379302\n",
       "17           MLP, CNN, FM  0.379769\n",
       "5                MLP, CNN  0.379827\n",
       "18           MLP, RNN, LR  0.379839\n",
       "19           MLP, RNN, FM  0.380022\n",
       "6                MLP, RNN  0.380142\n",
       "29       CNN, RNN, LR, FM  0.385930\n",
       "22           CNN, RNN, FM  0.386395\n",
       "23            CNN, LR, FM  0.387643\n",
       "11                CNN, FM  0.388011\n",
       "20            MLP, LR, FM  0.388503\n",
       "8                 MLP, FM  0.388525\n",
       "7                 MLP, LR  0.389557\n",
       "24            RNN, LR, FM  0.389729\n",
       "13                RNN, FM  0.389835\n",
       "0                     MLP  0.389903\n",
       "21           CNN, RNN, LR  0.390154\n",
       "9                CNN, RNN  0.390995\n",
       "10                CNN, LR  0.392270\n",
       "1                     CNN  0.393551\n",
       "12                RNN, LR  0.395329\n",
       "2                     RNN  0.399082\n",
       "14                 LR, FM  0.416776\n",
       "4                      FM  0.420068\n",
       "3                      LR  0.436359"
      ]
     },
     "execution_count": 19,
     "metadata": {},
     "output_type": "execute_result"
    }
   ],
   "source": [
    "weighted_averaging_score_df.sort_values('score')"
   ]
  }
 ],
 "metadata": {
  "kernelspec": {
   "display_name": "Python 3",
   "language": "python",
   "name": "python3"
  },
  "language_info": {
   "codemirror_mode": {
    "name": "ipython",
    "version": 3
   },
   "file_extension": ".py",
   "mimetype": "text/x-python",
   "name": "python",
   "nbconvert_exporter": "python",
   "pygments_lexer": "ipython3",
   "version": "3.6.3"
  }
 },
 "nbformat": 4,
 "nbformat_minor": 2
}
